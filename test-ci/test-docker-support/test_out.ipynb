{
 "cells": [
  {
   "cell_type": "code",
   "execution_count": 1,
   "id": "engaging-starter",
   "metadata": {
    "execution": {
     "iopub.execute_input": "2021-03-30T20:57:18.291592Z",
     "iopub.status.busy": "2021-03-30T20:57:18.290567Z",
     "iopub.status.idle": "2021-03-30T20:57:18.776695Z",
     "shell.execute_reply": "2021-03-30T20:57:18.776301Z"
    },
    "papermill": {
     "duration": 0.49126,
     "end_time": "2021-03-30T20:57:18.776809",
     "exception": false,
     "start_time": "2021-03-30T20:57:18.285549",
     "status": "completed"
    },
    "tags": []
   },
   "outputs": [
    {
     "name": "stdout",
     "output_type": "stream",
     "text": [
      "Sending build context to Docker daemon  11.26kB\r",
      "\r\n",
      "Step 1/1 : FROM hello-world:latest\n",
      " ---> d1165f221234\n",
      "Successfully built d1165f221234\n",
      "Successfully tagged hello-world:latest\n"
     ]
    }
   ],
   "source": [
    "%%sh\n",
    "docker build -t hello-world:latest ."
   ]
  },
  {
   "cell_type": "code",
   "execution_count": 2,
   "id": "quantitative-delhi",
   "metadata": {
    "execution": {
     "iopub.execute_input": "2021-03-30T20:57:18.783986Z",
     "iopub.status.busy": "2021-03-30T20:57:18.783621Z",
     "iopub.status.idle": "2021-03-30T20:57:18.933917Z",
     "shell.execute_reply": "2021-03-30T20:57:18.934225Z"
    },
    "papermill": {
     "duration": 0.155184,
     "end_time": "2021-03-30T20:57:18.934347",
     "exception": false,
     "start_time": "2021-03-30T20:57:18.779163",
     "status": "completed"
    },
    "tags": []
   },
   "outputs": [
    {
     "name": "stdout",
     "output_type": "stream",
     "text": [
      "Sending build context to Docker daemon  2.048kB\r",
      "\r\n",
      "Step 1/1 : FROM hello-world:latest\n",
      " ---> d1165f221234\n",
      "Successfully built d1165f221234\n",
      "Successfully tagged hello-world:latest\n"
     ]
    }
   ],
   "source": [
    "%%sh\n",
    "cd container/\n",
    "docker build -t hello-world:latest ."
   ]
  }
 ],
 "metadata": {
  "kernelspec": {
   "display_name": "Python 3",
   "language": "python",
   "name": "python3"
  },
  "language_info": {
   "codemirror_mode": {
    "name": "ipython",
    "version": 3
   },
   "file_extension": ".py",
   "mimetype": "text/x-python",
   "name": "python",
   "nbconvert_exporter": "python",
   "pygments_lexer": "ipython3",
   "version": "3.6.10"
  },
  "papermill": {
   "default_parameters": {},
   "duration": 1.464726,
   "end_time": "2021-03-30T20:57:19.141569",
   "environment_variables": {},
   "exception": null,
   "input_path": "test.ipynb",
   "output_path": "test_out.ipynb",
   "parameters": {},
   "start_time": "2021-03-30T20:57:17.676843",
   "version": "2.3.3"
  }
 },
 "nbformat": 4,
 "nbformat_minor": 5
}